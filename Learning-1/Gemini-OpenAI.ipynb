{
 "cells": [
  {
   "cell_type": "code",
   "execution_count": 10,
   "id": "cb088e18",
   "metadata": {},
   "outputs": [],
   "source": [
    "from dotenv import load_dotenv\n",
    "from openai import OpenAI\n",
    "import os"
   ]
  },
  {
   "cell_type": "code",
   "execution_count": 4,
   "id": "ab638485",
   "metadata": {},
   "outputs": [
    {
     "data": {
      "text/plain": [
       "True"
      ]
     },
     "execution_count": 4,
     "metadata": {},
     "output_type": "execute_result"
    }
   ],
   "source": [
    "load_dotenv(override=True)"
   ]
  },
  {
   "cell_type": "code",
   "execution_count": 11,
   "id": "3c831045",
   "metadata": {},
   "outputs": [
    {
     "name": "stdout",
     "output_type": "stream",
     "text": [
      "Google API Key exists and begins AI\n"
     ]
    }
   ],
   "source": [
    "google_api_key = os.getenv('GOOGLE_API_KEY')\n",
    "\n",
    "if google_api_key:\n",
    "        print(f\"Google API Key exists and begins {google_api_key[:2]}\")\n"
   ]
  },
  {
   "cell_type": "code",
   "execution_count": 12,
   "id": "8c17a799",
   "metadata": {},
   "outputs": [],
   "source": [
    "openai = OpenAI(api_key=google_api_key, base_url=\"https://generativelanguage.googleapis.com/v1beta/openai/\")"
   ]
  },
  {
   "cell_type": "code",
   "execution_count": null,
   "id": "9eef664d",
   "metadata": {},
   "outputs": [],
   "source": [
    "request = \"Pick a business area that could use the help of Agentic AI. Do not provide any further information only name of the business area\"\n",
    "message = [{'role': 'user', 'content': request}]\n",
    "response = openai.chat.completions.create(\n",
    "    model=\"gemini-2.0-flash\",\n",
    "    messages=message\n",
    ")\n"
   ]
  },
  {
   "cell_type": "code",
   "execution_count": null,
   "id": "eecf16e9",
   "metadata": {},
   "outputs": [
    {
     "name": "stdout",
     "output_type": "stream",
     "text": [
      "Supply Chain Management\n",
      "\n"
     ]
    }
   ],
   "source": [
    "answer = response.choices[0].message.content\n",
    "\n",
    "print(answer)"
   ]
  },
  {
   "cell_type": "code",
   "execution_count": 22,
   "id": "50acd79e",
   "metadata": {},
   "outputs": [
    {
     "name": "stdout",
     "output_type": "stream",
     "text": [
      "**Pain-Point:** Bullwhip Effect in Demand Forecasting\n",
      "\n",
      "**Agentic AI Solution:** Develop a multi-agent system where each agent represents a node in the supply chain (e.g., retailer, distributor, manufacturer, supplier). These agents autonomously communicate, negotiate, and collaboratively refine demand forecasts using real-time data, AI-powered prediction models, and reinforcement learning to optimize inventory levels and minimize forecast errors across the entire chain.\n",
      "\n"
     ]
    }
   ],
   "source": [
    "from email import message\n",
    "\n",
    "question = f\"Pick an pain-point for the industry {answer} and provide a solution for it using Agentic AI. Give the problem statement only without explainations.\" \n",
    "message = [{'role': 'user', 'content': question}]\n",
    "\n",
    "response = openai.chat.completions.create(\n",
    "    model=\"gemini-2.0-flash\",\n",
    "    messages=message\n",
    ")\n",
    "\n",
    "answer = response.choices[0].message.content\n",
    "print(answer)"
   ]
  },
  {
   "cell_type": "code",
   "execution_count": 23,
   "id": "c687cda6",
   "metadata": {},
   "outputs": [
    {
     "data": {
      "text/markdown": [
       "## **Pain-Point:** Bullwhip Effect in Demand Forecasting\n",
       "\n",
       "**Agentic AI Solution:** Develop a multi-agent system where each agent represents a node in the supply chain (e.g., retailer, distributor, manufacturer, supplier). These agents autonomously communicate, negotiate, and collaboratively refine demand forecasts using real-time data, AI-powered prediction models, and reinforcement learning to optimize inventory levels and minimize forecast errors across the entire chain.\n"
      ],
      "text/plain": [
       "<IPython.core.display.Markdown object>"
      ]
     },
     "metadata": {},
     "output_type": "display_data"
    }
   ],
   "source": [
    "from IPython.display import display, Markdown\n",
    "\n",
    "display(Markdown(f\"## {answer}\"))   "
   ]
  },
  {
   "cell_type": "code",
   "execution_count": null,
   "id": "76f5315a",
   "metadata": {},
   "outputs": [],
   "source": []
  }
 ],
 "metadata": {
  "kernelspec": {
   "display_name": ".venv",
   "language": "python",
   "name": "python3"
  },
  "language_info": {
   "codemirror_mode": {
    "name": "ipython",
    "version": 3
   },
   "file_extension": ".py",
   "mimetype": "text/x-python",
   "name": "python",
   "nbconvert_exporter": "python",
   "pygments_lexer": "ipython3",
   "version": "3.12.3"
  }
 },
 "nbformat": 4,
 "nbformat_minor": 5
}
